{
 "cells": [
  {
   "cell_type": "code",
   "execution_count": 1,
   "metadata": {},
   "outputs": [],
   "source": [
    "import requests"
   ]
  },
  {
   "cell_type": "code",
   "execution_count": 2,
   "metadata": {},
   "outputs": [],
   "source": [
    "PREDICT_ENDPOINT=\"https://etisalat.katonic.ai/BLOCK/genai/BLOCK/api/v1/predict\"\n",
    "SECURE_TOKEN=\"BLOCK\""
   ]
  },
  {
   "cell_type": "code",
   "execution_count": 3,
   "metadata": {},
   "outputs": [
    {
     "name": "stdout",
     "output_type": "stream",
     "text": [
      "\"What is the first step you would take to solve this problem?\"\n"
     ]
    }
   ],
   "source": [
    "data = {\n",
    "        \"data\": \"Given an array of integers nums and an integer target, return the indices of the two numbers such that they add up to target. \\nYou may assume that each input would have exactly one solution, and you may not use the same element twice. \\nYou can return the answer in any order.\",\n",
    "        } #Your data must be in the specified schema\n",
    "\n",
    "result = requests.post(PREDICT_ENDPOINT, json = data, headers = {\"Authorization\":SECURE_TOKEN})\n",
    "\n",
    "print(result.text) "
   ]
  },
  {
   "cell_type": "code",
   "execution_count": null,
   "metadata": {},
   "outputs": [],
   "source": []
  }
 ],
 "metadata": {
  "kernelspec": {
   "display_name": "Python 3",
   "language": "python",
   "name": "python3"
  },
  "language_info": {
   "codemirror_mode": {
    "name": "ipython",
    "version": 3
   },
   "file_extension": ".py",
   "mimetype": "text/x-python",
   "name": "python",
   "nbconvert_exporter": "python",
   "pygments_lexer": "ipython3",
   "version": "3.12.6"
  }
 },
 "nbformat": 4,
 "nbformat_minor": 2
}
